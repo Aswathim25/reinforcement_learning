{
 "cells": [
  {
   "cell_type": "markdown",
   "metadata": {},
   "source": [
    "# Logistics - (Reinforcement Learning)"
   ]
  },
  {
   "cell_type": "markdown",
   "metadata": {},
   "source": [
    "## Step - 1 : Building the environment "
   ]
  },
  {
   "cell_type": "markdown",
   "metadata": {},
   "source": [
    "Visualizing the graph using <b>\"networkx\"</b>.<br>\n",
    "Networkx is a Python package used to study the structure and dynamics of infrastructure networks."
   ]
  },
  {
   "cell_type": "code",
   "execution_count": 8,
   "metadata": {},
   "outputs": [
    {
     "data": {
      "image/png": "[encoded data removed]",
      "text/plain": [
       "<Figure size 432x288 with 1 Axes>"
      ]
     },
     "metadata": {},
     "output_type": "display_data"
    }
   ],
   "source": [
    "import numpy as np\n",
    "import pylab as plt\n",
    "import networkx as nx\n",
    " \n",
    "#Initializing points\n",
    "# points_list = [(0,1), (1,5), (5,6), (5,4), (1,2), (2,3), (2,7)]\n",
    "points_list = [(0,4), (0,3), (4,1), (3,2), (2,1), (1,5), (2,5), (2,6), (6,5), (1,9), (1,8), (9,8), (5,7), (7,8), (9,10), (8,10)]\n",
    " \n",
    "goal = 10\n",
    "mapping={0:'Start', 1:'1', 2:'2', 3:'3', 4:'4', 5:'5', 6:'6', 7:'7', 8:'8', 9:'9', 10:'10-Destination'}\n",
    "G=nx.Graph()\n",
    "G.add_edges_from(points_list)\n",
    "pos = nx.spring_layout(G,k=.5,center=points_list[2])\n",
    "nx.draw_networkx_nodes(G,pos,node_color='m')\n",
    "nx.draw_networkx_edges(G,pos,edge_color='g')\n",
    "nx.draw_networkx_labels(G,pos)\n",
    "plt.show()"
   ]
  },
  {
   "cell_type": "markdown",
   "metadata": {},
   "source": [
    "## Step 2 - Creating Reward Matrix "
   ]
  },
  {
   "cell_type": "markdown",
   "metadata": {},
   "source": [
    "we take a numPy matrix and assign the rewards to be -1 by default.<br>\n",
    "Only the viable paths will be set to 0, while the maximum reward-giving path leading directly to the goal will be set to 150.<br> The reward matrix helps the bot take the best action that will eventually lead it to its goal."
   ]
  },
  {
   "cell_type": "code",
   "execution_count": 9,
   "metadata": {},
   "outputs": [
    {
     "name": "stdout",
     "output_type": "stream",
     "text": [
      "[[ -1.  -1.  -1.   0.   0.  -1.  -1.  -1.  -1.  -1.  -1.]\n",
      " [ -1.  -1.   0.  -1.   0.   0.  -1.  -1.   0.   0.  -1.]\n",
      " [ -1.   0.  -1.   0.  -1.   0.   0.  -1.  -1.  -1.  -1.]\n",
      " [  0.  -1.   0.  -1.  -1.  -1.  -1.  -1.  -1.  -1.  -1.]\n",
      " [  0.   0.  -1.  -1.  -1.  -1.  -1.  -1.  -1.  -1.  -1.]\n",
      " [ -1.   0.   0.  -1.  -1.  -1.   0.   0.  -1.  -1.  -1.]\n",
      " [ -1.  -1.   0.  -1.  -1.   0.  -1.  -1.  -1.  -1.  -1.]\n",
      " [ -1.  -1.  -1.  -1.  -1.   0.  -1.  -1.   0.  -1.  -1.]\n",
      " [ -1.   0.  -1.  -1.  -1.  -1.  -1.   0.  -1.   0. 150.]\n",
      " [ -1.   0.  -1.  -1.  -1.  -1.  -1.  -1.   0.  -1. 150.]\n",
      " [ -1.  -1.  -1.  -1.  -1.  -1.  -1.  -1.   0.   0. 150.]]\n"
     ]
    }
   ],
   "source": [
    "NO_OF_POINTS = 11\n",
    " \n",
    "#Inititlaizing R Matrix\n",
    "R = np.matrix(np.ones(shape=(NO_OF_POINTS, NO_OF_POINTS)))\n",
    "R *= -1\n",
    " \n",
    "for point in points_list:\n",
    "    if point[1] == goal:\n",
    "        R[point] = 150\n",
    "    else:\n",
    "        R[point] = 0\n",
    " \n",
    "    if point[0] == goal:\n",
    "        R[point[::-1]] = 150\n",
    "    else:\n",
    "        R[point[::-1]]= 0\n",
    "\n",
    "R[goal,goal]= 150\n",
    "print(R)"
   ]
  },
  {
   "cell_type": "markdown",
   "metadata": {},
   "source": [
    "## Step 3 - Creating the Q matrix "
   ]
  },
  {
   "cell_type": "markdown",
   "metadata": {},
   "source": [
    "If Gamma is set closer to zero, the agent will be more inclined towards immediate rewards, whereas if set closer to 1, the agent will consider future rewards with greater weight.\n"
   ]
  },
  {
   "cell_type": "code",
   "execution_count": 12,
   "metadata": {},
   "outputs": [
    {
     "name": "stdout",
     "output_type": "stream",
     "text": [
      "0\n"
     ]
    }
   ],
   "source": [
    "Q = np.matrix(np.zeros([NO_OF_POINTS,NO_OF_POINTS]))\n",
    " \n",
    "# The gamma parameter\n",
    "gamma = 0.8\n",
    " \n",
    "initial_state = 1\n",
    " \n",
    "def available_actions(state):\n",
    "    current_state_row = R[state,]\n",
    "    av_act = np.where(current_state_row >= 0)[1]\n",
    "    return av_act\n",
    " \n",
    "available_act = available_actions(initial_state)\n",
    " \n",
    "def sample_next_action(available_actions_range):\n",
    "    next_action = int(np.random.choice(available_act,1))\n",
    "    return next_action\n",
    " \n",
    "action = sample_next_action(available_act)\n",
    "\n",
    "def update(current_state, action, gamma):\n",
    " \n",
    "    max_index = np.where(Q[action,] == np.max(Q[action,]))[1]\n",
    "\n",
    "    if (max_index.shape[0] > 1):\n",
    "        max_index = int(np.random.choice(max_index, size = 1))\n",
    "    else:\n",
    "        max_index = int(max_index)\n",
    "        \n",
    "    max_value = Q[action, max_index]\n",
    "\n",
    "    Q[current_state, action] = R[current_state, action] + gamma * max_value\n",
    "#     print('max_value', R[current_state, action] + gamma * max_value)\n",
    "\n",
    "    if (np.max(Q) > 0):\n",
    "        return(np.sum(Q/np.max(Q)*100))\n",
    "    else:\n",
    "        return (0)\n",
    "\n",
    "print(update(initial_state, action, gamma))"
   ]
  },
  {
   "cell_type": "markdown",
   "metadata": {},
   "source": [
    "## Step 4 - Training the model "
   ]
  },
  {
   "cell_type": "markdown",
   "metadata": {},
   "source": [
    " The purpose of training is to enhance the knowledge base of our Q matrix. "
   ]
  },
  {
   "cell_type": "code",
   "execution_count": 14,
   "metadata": {},
   "outputs": [
    {
     "name": "stdout",
     "output_type": "stream",
     "text": [
      "Trained Q matrix:\n"
     ]
    },
    {
     "data": {
      "text/plain": [
       "matrix([[  0.        ,   0.        ,   0.        ,  40.95563661,\n",
       "          51.18772797,   0.        ,   0.        ,   0.        ,\n",
       "           0.        ,   0.        ,   0.        ],\n",
       "        [  0.        ,   0.        ,  51.18772797,   0.        ,\n",
       "          51.18772797,  51.18772797,   0.        ,   0.        ,\n",
       "          79.99147776,  80.        ,   0.        ],\n",
       "        [  0.        ,  63.99318221,   0.        ,  40.95563661,\n",
       "           0.        ,  51.19454577,  40.95563661,   0.        ,\n",
       "           0.        ,   0.        ,   0.        ],\n",
       "        [ 40.95018238,   0.        ,  51.19454577,   0.        ,\n",
       "           0.        ,   0.        ,   0.        ,   0.        ,\n",
       "           0.        ,   0.        ,   0.        ],\n",
       "        [ 40.91087354,  64.        ,   0.        ,   0.        ,\n",
       "           0.        ,   0.        ,   0.        ,   0.        ,\n",
       "           0.        ,   0.        ,   0.        ],\n",
       "        [  0.        ,  63.99318221,  51.19454577,   0.        ,\n",
       "           0.        ,   0.        ,  40.95018238,  63.99318221,\n",
       "           0.        ,   0.        ,   0.        ],\n",
       "        [  0.        ,   0.        ,  51.19454577,   0.        ,\n",
       "           0.        ,  51.19454577,   0.        ,   0.        ,\n",
       "           0.        ,   0.        ,   0.        ],\n",
       "        [  0.        ,   0.        ,   0.        ,   0.        ,\n",
       "           0.        ,  51.19454577,   0.        ,   0.        ,\n",
       "          79.99147776,   0.        ,   0.        ],\n",
       "        [  0.        ,  63.99318221,   0.        ,   0.        ,\n",
       "           0.        ,   0.        ,   0.        ,  63.99318221,\n",
       "           0.        ,  79.99147776, 100.        ],\n",
       "        [  0.        ,  63.99318221,   0.        ,   0.        ,\n",
       "           0.        ,   0.        ,   0.        ,   0.        ,\n",
       "          80.        ,   0.        , 100.        ],\n",
       "        [  0.        ,   0.        ,   0.        ,   0.        ,\n",
       "           0.        ,   0.        ,   0.        ,   0.        ,\n",
       "          80.        ,  79.99147776,  99.9893472 ]])"
      ]
     },
     "metadata": {},
     "output_type": "display_data"
    }
   ],
   "source": [
    "scores = []\n",
    "\n",
    "for i in range(700):\n",
    "    current_state = np.random.randint(0, int(Q.shape[0]))\n",
    "    available_act = available_actions(current_state)\n",
    "    action = sample_next_action(available_act)\n",
    "    score = update(current_state,action,gamma)\n",
    "    scores.append(score)\n",
    "#     print ('Score:', str(score))\n",
    "\n",
    "print(\"Trained Q matrix:\")\n",
    "display(Q/np.max(Q)*100)"
   ]
  },
  {
   "cell_type": "markdown",
   "metadata": {},
   "source": [
    "## Step 5 - Testing the Model "
   ]
  },
  {
   "cell_type": "markdown",
   "metadata": {},
   "source": [
    "Now its time to test our model and see whether it results in the shortest path <br>\n",
    "<b>Note:</b> Try changing the current_state to different nodes and check the results."
   ]
  },
  {
   "cell_type": "code",
   "execution_count": 19,
   "metadata": {},
   "outputs": [
    {
     "name": "stdout",
     "output_type": "stream",
     "text": [
      "Most efficient path:\n",
      "[6, 5, 7, 8, 10]\n"
     ]
    }
   ],
   "source": [
    "current_state = 6\n",
    "steps = [current_state]\n",
    " \n",
    "while current_state != 10:\n",
    "    next_step_index = np.where(Q[current_state,] == np.max(Q[current_state,]))[1]\n",
    " \n",
    "    if next_step_index.shape[0] > 1:\n",
    "        next_step_index = int(np.random.choice(next_step_index, size = 1))\n",
    "    else:\n",
    "        next_step_index = int(next_step_index)\n",
    "\n",
    "    steps.append(next_step_index)\n",
    "    current_state = next_step_index\n",
    "    \n",
    "print(\"Most efficient path:\")\n",
    "print(steps)"
   ]
  },
  {
   "cell_type": "markdown",
   "metadata": {},
   "source": [
    "## Use Cases "
   ]
  },
  {
   "cell_type": "markdown",
   "metadata": {},
   "source": [
    "Using Q learning we have identified the efficient path from source to destination. Now the same approach can be used in transportation industry to eliminate the delay, fuel cost and find the shortest path."
   ]
  }
 ],
 "metadata": {
  "kernelspec": {
   "display_name": "Python 3",
   "language": "python",
   "name": "python3"
  },
  "language_info": {
   "codemirror_mode": {
    "name": "ipython",
    "version": 3
   },
   "file_extension": ".py",
   "mimetype": "text/x-python",
   "name": "python",
   "nbconvert_exporter": "python",
   "pygments_lexer": "ipython3",
   "version": "3.7.6"
  }
 },
 "nbformat": 4,
 "nbformat_minor": 4
}
